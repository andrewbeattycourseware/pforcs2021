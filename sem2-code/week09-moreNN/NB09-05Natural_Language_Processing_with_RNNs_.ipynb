{
 "cells": [
  {
   "cell_type": "markdown",
   "metadata": {
    "id": "h5cjtsHP8t5Y"
   },
   "source": [
    "# Natural Language Processing \n",
    "\n",
    "This is not my material, it is taken mainly from the tensorflow documentation.\n",
    "\n",
    "Natural Language Processing (or NLP for short) is a discipline in computing that deals with the communication between natural (human) languages and computer languages. A common example of NLP is something like spellcheck or autocomplete. Essentially NLP is the field that focuses on how computers can understand and/or process natural/human languages. \n",
    "\n",
    "### Recurrent Neural Networks\n",
    "\n",
    "In this tutorial we will introduce a new kind of neural network that is much more capable of processing sequential data such as text or characters called a **recurrent neural network** (RNN for short). \n",
    "\n",
    "We will learn how to use a reccurent neural network to do the following:\n",
    "- Sentiment Analysis\n",
    "- Character Generation \n",
    "\n",
    "RNN's are complex and come in many different forms so in this tutorial we wil focus on how they work and the kind of problems they are best suited for.\n",
    "\n"
   ]
  },
  {
   "cell_type": "markdown",
   "metadata": {
    "id": "ur_FQq-Q-fxC"
   },
   "source": [
    "## Sequence Data\n",
    "In the previous tutorials we focused on data that we could represent as one static data point where the notion of time or step was irrelevant. Take for example our image data, it was simply a tensor of shape (width, height, channels). That data doesn't change or care about the notion of time. \n",
    "\n",
    "In this tutorial we will look at sequences of text and learn how we can encode them in a meaningful way. Unlike images, sequence data such as long chains of text, weather patterns, videos and really anything where the notion of a step or time is relevant needs to be processed and handled in a special way. \n",
    "\n",
    "But what do I mean by sequences and why is text data a sequence? Well that's a good question. Since textual data contains many words that follow in a very specific and meaningful order, we need to be able to keep track of each word and when it occurs in the data. Simply encoding say an entire paragraph of text into one data point wouldn't give us a very meaningful picture of the data and would be very difficult to do anything with. This is why we treat text as a sequence and process one word at a time. We will keep track of where each of these words appear and use that information to try to understand the meaning of peices of text.\n",
    "\n"
   ]
  },
  {
   "cell_type": "markdown",
   "metadata": {
    "id": "8gQHK4V4e2wl"
   },
   "source": [
    "## Encoding Text\n",
    "As we know machine learning models and neural networks don't take raw text data as an input. This means we must somehow encode our textual data to numeric values that our models can understand. There are many different ways of doing this and we will look at a few examples below. \n",
    "\n",
    "Before we get into the different encoding/preprocessing methods let's understand the information we can get from textual data by looking at the following two movie reviews.\n",
    "\n",
    "```I thought the movie was going to be bad, but it was actually amazing!```\n",
    "\n",
    "```I thought the movie was going to be amazing, but it was actually bad!```\n",
    "\n",
    "Although these two setences are very similar we know that they have very different meanings. This is because of the **ordering** of words, a very important property of textual data.\n",
    "\n",
    "Now keep that in mind while we consider some different ways of encoding our textual data.\n",
    "\n",
    "### Bag of Words\n",
    "The first and simplest way to encode our data is to use something called **bag of words**. This is a pretty easy technique where each word in a sentence is encoded with an integer and thrown into a collection that does not maintain the order of the words but does keep track of the frequency. Have a look at the python function below that encodes a string of text into bag of words. "
   ]
  },
  {
   "cell_type": "code",
   "execution_count": 9,
   "metadata": {
    "id": "5KiCCBsIkMHi"
   },
   "outputs": [
    {
     "name": "stdout",
     "output_type": "stream",
     "text": [
      "{1: 2, 2: 3, 3: 3, 4: 3, 5: 1, 6: 1, 7: 1, 8: 1, 9: 1}\n",
      "{'this': 1, 'is': 2, 'a': 3, 'test': 4, 'to': 5, 'see': 6, 'if': 7, 'will': 8, 'work': 9}\n"
     ]
    }
   ],
   "source": [
    "vocab = {}  # maps word to integer representing it\n",
    "word_encoding = 1\n",
    "def bag_of_words(text):\n",
    "  global word_encoding\n",
    "\n",
    "  words = text.lower().split(\" \")  # create a list of all of the words in the text, well assume there is no grammar in our text for this example\n",
    "  bag = {}  # stores all of the encodings and their frequency\n",
    "\n",
    "  for word in words:\n",
    "    if word in vocab:\n",
    "      encoding = vocab[word]  # get encoding from vocab\n",
    "    else:\n",
    "      vocab[word] = word_encoding\n",
    "      encoding = word_encoding\n",
    "      word_encoding += 1\n",
    "    \n",
    "    if encoding in bag:\n",
    "      bag[encoding] += 1\n",
    "    else:\n",
    "      bag[encoding] = 1\n",
    "  \n",
    "  return bag\n",
    "\n",
    "text = \"this is a test to see if this test will work is is test a a\"\n",
    "bag = bag_of_words(text)\n",
    "print(bag)\n",
    "print(vocab)"
   ]
  },
  {
   "cell_type": "markdown",
   "metadata": {
    "id": "4hEvstSBl1gy"
   },
   "source": [
    "This isn't really the way we would do this in practice, but I hope it gives you an idea of how bag of words works. Notice that we've lost the order in which words appear. In fact, let's look at how this encoding works for the two sentences we showed above.\n",
    "\n"
   ]
  },
  {
   "cell_type": "code",
   "execution_count": 10,
   "metadata": {
    "id": "miYshfvzmJ0H"
   },
   "outputs": [
    {
     "name": "stdout",
     "output_type": "stream",
     "text": [
      "Positive: {10: 1, 11: 1, 12: 1, 13: 1, 14: 2, 15: 1, 5: 1, 16: 1, 17: 1, 18: 1, 19: 1, 20: 1, 21: 1}\n",
      "Negative: {10: 1, 11: 1, 12: 1, 13: 1, 14: 2, 15: 1, 5: 1, 16: 1, 21: 1, 18: 1, 19: 1, 20: 1, 17: 1}\n"
     ]
    }
   ],
   "source": [
    "positive_review = \"I thought the movie was going to be bad but it was actually amazing\"\n",
    "negative_review = \"I thought the movie was going to be amazing but it was actually bad\"\n",
    "\n",
    "pos_bag = bag_of_words(positive_review)\n",
    "neg_bag = bag_of_words(negative_review)\n",
    "\n",
    "print(\"Positive:\", pos_bag)\n",
    "print(\"Negative:\", neg_bag)"
   ]
  },
  {
   "cell_type": "markdown",
   "metadata": {
    "id": "Pl7Fw9s3mkfK"
   },
   "source": [
    "We can see that even though these sentences have a very different meaning they are encoded exaclty the same way. Obviously, this isn't going to fly. Let's look at some other methods.\n",
    "\n"
   ]
  },
  {
   "cell_type": "markdown",
   "metadata": {
    "id": "DUKTycffmu1k"
   },
   "source": [
    "### Integer Encoding\n",
    "The next technique we will look at is called **integer encoding**. This involves representing each word or character in a sentence as a unique integer and maintaining the order of these words. This should hopefully fix the problem we saw before were we lost the order of words.\n"
   ]
  },
  {
   "cell_type": "code",
   "execution_count": 11,
   "metadata": {
    "id": "MKY4y_tjnUEW"
   },
   "outputs": [
    {
     "name": "stdout",
     "output_type": "stream",
     "text": [
      "[1, 2, 3, 4, 5, 6, 7, 1, 4, 8, 9, 2, 2, 4, 3, 3]\n",
      "{'this': 1, 'is': 2, 'a': 3, 'test': 4, 'to': 5, 'see': 6, 'if': 7, 'will': 8, 'work': 9}\n"
     ]
    }
   ],
   "source": [
    "vocab = {}  \n",
    "word_encoding = 1\n",
    "def one_hot_encoding(text):\n",
    "  global word_encoding\n",
    "\n",
    "  words = text.lower().split(\" \") \n",
    "  encoding = []  \n",
    "\n",
    "  for word in words:\n",
    "    if word in vocab:\n",
    "      code = vocab[word]  \n",
    "      encoding.append(code) \n",
    "    else:\n",
    "      vocab[word] = word_encoding\n",
    "      encoding.append(word_encoding)\n",
    "      word_encoding += 1\n",
    "  \n",
    "  return encoding\n",
    "\n",
    "text = \"this is a test to see if this test will work is is test a a\"\n",
    "encoding = one_hot_encoding(text)\n",
    "print(encoding)\n",
    "print(vocab)"
   ]
  },
  {
   "cell_type": "markdown",
   "metadata": {
    "id": "TOrLG9Bin0Zv"
   },
   "source": [
    "And now let's have a look at one hot encoding on our movie reviews."
   ]
  },
  {
   "cell_type": "code",
   "execution_count": 12,
   "metadata": {
    "id": "1S-GNjotn-Br"
   },
   "outputs": [
    {
     "name": "stdout",
     "output_type": "stream",
     "text": [
      "Positive: [10, 11, 12, 13, 14, 15, 5, 16, 17, 18, 19, 14, 20, 21]\n",
      "Negative: [10, 11, 12, 13, 14, 15, 5, 16, 21, 18, 19, 14, 20, 17]\n"
     ]
    }
   ],
   "source": [
    "positive_review = \"I thought the movie was going to be bad but it was actually amazing\"\n",
    "negative_review = \"I thought the movie was going to be amazing but it was actually bad\"\n",
    "\n",
    "pos_encode = one_hot_encoding(positive_review)\n",
    "neg_encode = one_hot_encoding(negative_review)\n",
    "\n",
    "print(\"Positive:\", pos_encode)\n",
    "print(\"Negative:\", neg_encode)"
   ]
  },
  {
   "cell_type": "markdown",
   "metadata": {
    "id": "jC9UYV4vpq6Y"
   },
   "source": [
    "Much better, now we are keeping track of the order of words and we can tell where each occurs. But this still has a few issues with it. Ideally when we encode words, we would like similar words to have similar labels and different words to have very different labels. For example, the words happy and joyful should probably have very similar labels so we can determine that they are similar. While words like horrible and amazing should probably have very different labels. The method we looked at above won't be able to do something like this for us. This could mean that the model will have a very difficult time determing if two words are similar or not which could result in some pretty drastic performace impacts.\n",
    "\n"
   ]
  },
  {
   "cell_type": "markdown",
   "metadata": {
    "id": "JRZ73YCqqiw9"
   },
   "source": [
    "### Word Embeddings\n",
    " **word embeddings**. This method keeps the order of words intact as well as encodes similar words with very similar labels. It attempts to not only encode the frequency and order of words but the meaning of those words in the sentence. It encodes each word as a dense vector that represents its context in the sentence.\n",
    "\n",
    "Word embeddings are learned by looking at many different training examples. You can add what's called an *embedding layer* to the beggining of your model and while your model trains your embedding layer will learn the correct embeddings for words. You can also use pretrained embedding layers.\n",
    "\n",
    "This is the technique we will use for our examples and its implementation will be showed later on.\n",
    "\n"
   ]
  },
  {
   "cell_type": "markdown",
   "metadata": {
    "id": "ehig3qliuUzk"
   },
   "source": [
    "## Recurrent Neural Networks (RNN's)\n",
    "Networks that contain a loop.\n",
    "\n",
    " Up until this point we have been using something called **feed-forward** neural networks. This simply means that all our data is fed forwards (all at once) from left to right through the network. This was fine for the problems we considered before but won't work very well for processing text. After all, even we (humans) don't process text all at once. We read word by word from left to right and keep track of the current meaning of the sentence so we can understand the meaning of the next word. Well this is exaclty what a recurrent neural network is designed to do. When we say recurrent neural network all we really mean is a network that contains a loop. A RNN will process one word at a time while maintaining an internal memory of what it's already seen. This will allow it to treat words differently based on their order in a sentence and to slowly build an understanding of the entire input, one word at a time.\n",
    "\n",
    "\n",
    "![alt text](https://colah.github.io/posts/2015-08-Understanding-LSTMs/img/RNN-unrolled.png)\n",
    "*Source: https://colah.github.io/posts/2015-08-Understanding-LSTMs/*\n",
    "\n",
    "Let's define what all these variables stand for before we get into the explination.\n",
    "\n",
    "**h<sub>t</sub>** output at time t\n",
    "\n",
    "**x<sub>t</sub>** input at time t\n",
    "\n",
    "**A** Recurrent Layer (loop)\n",
    "\n",
    "What this diagram illustrates is that a recurrent layer processes words or input one at a time in a combination with the output from the previous iteration. \n",
    "\n",
    "This is called a **simple RNN layer**. It can be effective at processing shorter sequences of text for simple problems but  as text sequences get longer it gets increasingly difficult for the network to understand the text properly.\n",
    "\n"
   ]
  },
  {
   "cell_type": "markdown",
   "metadata": {
    "id": "Fo3WY-e86zX2"
   },
   "source": [
    "## LSTM\n",
    "(Long Short-Term Memory). \n",
    "\n",
    "This layer works very similarily to the simpleRNN layer but adds a way to access inputs from any timestep in the past. In the simple RNN layer, input from previous timestamps gradually disappeared as it got further through the input. With a LSTM there is a long-term memory data structure storing all the previously seen inputs.  This adds to the complexity of the network and allows it to discover more useful relationships between inputs and when they appear. \n",
    "\n",
    "\n",
    "\n"
   ]
  },
  {
   "cell_type": "markdown",
   "metadata": {
    "id": "CRGOx6_v4eZ_"
   },
   "source": [
    "## Sentiment Analysis\n",
    "An example used for Sentiment Analysis\n",
    "\n",
    "The formal definition of this term from Wikipedia is as follows:\n",
    "\n",
    "*the process of computationally identifying and categorizing opinions expressed in a piece of text, especially in order to determine whether the writer's attitude towards a particular topic, product, etc. is positive, negative, or neutral.*\n",
    "\n",
    "The example we’ll use here is classifying movie reviews as either postive, negative or neutral.\n",
    "\n",
    "*This guide is based on the following tensorflow tutorial: https://www.tensorflow.org/tutorials/text/text_classification_rnn*\n",
    "\n"
   ]
  },
  {
   "cell_type": "markdown",
   "metadata": {
    "id": "RACGE5Ypt5u9"
   },
   "source": [
    "### Movie Review Dataset\n",
    "Well start by loading in the IMDB movie review dataset from keras. This dataset contains 25,000 reviews from IMDB where each one is already preprocessed and has a label as either positive or negative. Each review is encoded by integers that represents how common a word is in the entire dataset. For example, a word encoded by the integer 3 means that it is the 3rd most common word in the dataset.\n",
    " \n",
    "\n",
    "\n"
   ]
  },
  {
   "cell_type": "code",
   "execution_count": 13,
   "metadata": {
    "id": "pdsus1kyXWC8"
   },
   "outputs": [],
   "source": [
    "from keras.datasets import imdb\n",
    "from keras.preprocessing import sequence\n",
    "import keras\n",
    "import tensorflow as tf\n",
    "import os\n",
    "import numpy as np\n",
    "\n",
    "VOCAB_SIZE = 88584\n",
    "\n",
    "MAXLEN = 250\n",
    "BATCH_SIZE = 64\n",
    "\n",
    "(train_data, train_labels), (test_data, test_labels) = imdb.load_data(num_words = VOCAB_SIZE)"
   ]
  },
  {
   "cell_type": "code",
   "execution_count": 14,
   "metadata": {
    "id": "Wh6lOpcQ9sIZ"
   },
   "outputs": [
    {
     "data": {
      "text/plain": [
       "[1,\n",
       " 194,\n",
       " 1153,\n",
       " 194,\n",
       " 8255,\n",
       " 78,\n",
       " 228,\n",
       " 5,\n",
       " 6,\n",
       " 1463,\n",
       " 4369,\n",
       " 5012,\n",
       " 134,\n",
       " 26,\n",
       " 4,\n",
       " 715,\n",
       " 8,\n",
       " 118,\n",
       " 1634,\n",
       " 14,\n",
       " 394,\n",
       " 20,\n",
       " 13,\n",
       " 119,\n",
       " 954,\n",
       " 189,\n",
       " 102,\n",
       " 5,\n",
       " 207,\n",
       " 110,\n",
       " 3103,\n",
       " 21,\n",
       " 14,\n",
       " 69,\n",
       " 188,\n",
       " 8,\n",
       " 30,\n",
       " 23,\n",
       " 7,\n",
       " 4,\n",
       " 249,\n",
       " 126,\n",
       " 93,\n",
       " 4,\n",
       " 114,\n",
       " 9,\n",
       " 2300,\n",
       " 1523,\n",
       " 5,\n",
       " 647,\n",
       " 4,\n",
       " 116,\n",
       " 9,\n",
       " 35,\n",
       " 8163,\n",
       " 4,\n",
       " 229,\n",
       " 9,\n",
       " 340,\n",
       " 1322,\n",
       " 4,\n",
       " 118,\n",
       " 9,\n",
       " 4,\n",
       " 130,\n",
       " 4901,\n",
       " 19,\n",
       " 4,\n",
       " 1002,\n",
       " 5,\n",
       " 89,\n",
       " 29,\n",
       " 952,\n",
       " 46,\n",
       " 37,\n",
       " 4,\n",
       " 455,\n",
       " 9,\n",
       " 45,\n",
       " 43,\n",
       " 38,\n",
       " 1543,\n",
       " 1905,\n",
       " 398,\n",
       " 4,\n",
       " 1649,\n",
       " 26,\n",
       " 6853,\n",
       " 5,\n",
       " 163,\n",
       " 11,\n",
       " 3215,\n",
       " 10156,\n",
       " 4,\n",
       " 1153,\n",
       " 9,\n",
       " 194,\n",
       " 775,\n",
       " 7,\n",
       " 8255,\n",
       " 11596,\n",
       " 349,\n",
       " 2637,\n",
       " 148,\n",
       " 605,\n",
       " 15358,\n",
       " 8003,\n",
       " 15,\n",
       " 123,\n",
       " 125,\n",
       " 68,\n",
       " 23141,\n",
       " 6853,\n",
       " 15,\n",
       " 349,\n",
       " 165,\n",
       " 4362,\n",
       " 98,\n",
       " 5,\n",
       " 4,\n",
       " 228,\n",
       " 9,\n",
       " 43,\n",
       " 36893,\n",
       " 1157,\n",
       " 15,\n",
       " 299,\n",
       " 120,\n",
       " 5,\n",
       " 120,\n",
       " 174,\n",
       " 11,\n",
       " 220,\n",
       " 175,\n",
       " 136,\n",
       " 50,\n",
       " 9,\n",
       " 4373,\n",
       " 228,\n",
       " 8255,\n",
       " 5,\n",
       " 25249,\n",
       " 656,\n",
       " 245,\n",
       " 2350,\n",
       " 5,\n",
       " 4,\n",
       " 9837,\n",
       " 131,\n",
       " 152,\n",
       " 491,\n",
       " 18,\n",
       " 46151,\n",
       " 32,\n",
       " 7464,\n",
       " 1212,\n",
       " 14,\n",
       " 9,\n",
       " 6,\n",
       " 371,\n",
       " 78,\n",
       " 22,\n",
       " 625,\n",
       " 64,\n",
       " 1382,\n",
       " 9,\n",
       " 8,\n",
       " 168,\n",
       " 145,\n",
       " 23,\n",
       " 4,\n",
       " 1690,\n",
       " 15,\n",
       " 16,\n",
       " 4,\n",
       " 1355,\n",
       " 5,\n",
       " 28,\n",
       " 6,\n",
       " 52,\n",
       " 154,\n",
       " 462,\n",
       " 33,\n",
       " 89,\n",
       " 78,\n",
       " 285,\n",
       " 16,\n",
       " 145,\n",
       " 95]"
      ]
     },
     "execution_count": 14,
     "metadata": {},
     "output_type": "execute_result"
    }
   ],
   "source": [
    "# Lets look at one review\n",
    "train_data[1]"
   ]
  },
  {
   "cell_type": "markdown",
   "metadata": {
    "id": "EAtZHE9-eQ07"
   },
   "source": [
    "### More Preprocessing\n",
    "If we have a look at some of our loaded in reviews, we'll notice that they are different lengths. This is an issue. We cannot pass different length data into our neural network. Therefore, we must make each review the same length. To do this we will follow the procedure below:\n",
    "- if the review is greater than 250 words then trim off the extra words\n",
    "- if the review is less than 250 words add the necessary amount of 0's to make it equal to 250.\n",
    "\n",
    "Keras has a function that can do this for us:\n",
    "\n",
    "\n"
   ]
  },
  {
   "cell_type": "code",
   "execution_count": 15,
   "metadata": {
    "id": "Z3qQ83sNeog6"
   },
   "outputs": [],
   "source": [
    "train_data = sequence.pad_sequences(train_data, MAXLEN)\n",
    "test_data = sequence.pad_sequences(test_data, MAXLEN)"
   ]
  },
  {
   "cell_type": "markdown",
   "metadata": {
    "id": "mDm_0RTVir7I"
   },
   "source": [
    "### Creating the Model\n",
    " We'll use a word embedding layer as the first layer in our model and add a LSTM layer afterwards that feeds into a dense node to get our predicted sentiment. \n",
    "\n",
    "32 stands for the output dimension of the vectors generated by the embedding layer. We can change this value if we'd like!"
   ]
  },
  {
   "cell_type": "code",
   "execution_count": 16,
   "metadata": {
    "id": "OWGGcBIpjrMu"
   },
   "outputs": [],
   "source": [
    "model = tf.keras.Sequential([\n",
    "    tf.keras.layers.Embedding(VOCAB_SIZE, 32),\n",
    "    tf.keras.layers.LSTM(32),\n",
    "    tf.keras.layers.Dense(1, activation=\"sigmoid\")\n",
    "])"
   ]
  },
  {
   "cell_type": "code",
   "execution_count": 17,
   "metadata": {
    "id": "O8_jPL_Kkr-a"
   },
   "outputs": [
    {
     "name": "stdout",
     "output_type": "stream",
     "text": [
      "Model: \"sequential\"\n",
      "_________________________________________________________________\n",
      " Layer (type)                Output Shape              Param #   \n",
      "=================================================================\n",
      " embedding (Embedding)       (None, None, 32)          2834688   \n",
      "                                                                 \n",
      " lstm (LSTM)                 (None, 32)                8320      \n",
      "                                                                 \n",
      " dense (Dense)               (None, 1)                 33        \n",
      "                                                                 \n",
      "=================================================================\n",
      "Total params: 2,843,041\n",
      "Trainable params: 2,843,041\n",
      "Non-trainable params: 0\n",
      "_________________________________________________________________\n"
     ]
    }
   ],
   "source": [
    "model.summary()"
   ]
  },
  {
   "cell_type": "markdown",
   "metadata": {
    "id": "eyeQCk3LlK6V"
   },
   "source": [
    "### Training\n"
   ]
  },
  {
   "cell_type": "code",
   "execution_count": 18,
   "metadata": {
    "id": "KKEMjaIulPBe"
   },
   "outputs": [
    {
     "name": "stdout",
     "output_type": "stream",
     "text": [
      "Epoch 1/10\n",
      "625/625 [==============================] - 32s 48ms/step - loss: 0.4189 - acc: 0.8090 - val_loss: 0.2910 - val_acc: 0.8826\n",
      "Epoch 2/10\n",
      "625/625 [==============================] - 31s 49ms/step - loss: 0.2383 - acc: 0.9083 - val_loss: 0.2740 - val_acc: 0.8886\n",
      "Epoch 3/10\n",
      "625/625 [==============================] - 34s 54ms/step - loss: 0.1847 - acc: 0.9317 - val_loss: 0.2734 - val_acc: 0.8878\n",
      "Epoch 4/10\n",
      "625/625 [==============================] - 31s 50ms/step - loss: 0.1512 - acc: 0.9462 - val_loss: 0.2710 - val_acc: 0.8924\n",
      "Epoch 5/10\n",
      "625/625 [==============================] - 31s 50ms/step - loss: 0.1255 - acc: 0.9564 - val_loss: 0.2840 - val_acc: 0.8870\n",
      "Epoch 6/10\n",
      "625/625 [==============================] - 32s 52ms/step - loss: 0.1112 - acc: 0.9617 - val_loss: 0.3426 - val_acc: 0.8906\n",
      "Epoch 7/10\n",
      "625/625 [==============================] - 34s 54ms/step - loss: 0.0995 - acc: 0.9669 - val_loss: 0.3193 - val_acc: 0.8864\n",
      "Epoch 8/10\n",
      "625/625 [==============================] - 32s 51ms/step - loss: 0.0837 - acc: 0.9718 - val_loss: 0.4380 - val_acc: 0.8776\n",
      "Epoch 9/10\n",
      "625/625 [==============================] - 32s 51ms/step - loss: 0.0756 - acc: 0.9760 - val_loss: 0.3536 - val_acc: 0.8916\n",
      "Epoch 10/10\n",
      "625/625 [==============================] - 36s 58ms/step - loss: 0.0671 - acc: 0.9790 - val_loss: 0.4406 - val_acc: 0.8810\n"
     ]
    }
   ],
   "source": [
    "model.compile(loss=\"binary_crossentropy\",optimizer=\"rmsprop\",metrics=['acc'])\n",
    "\n",
    "history = model.fit(train_data, train_labels, epochs=10, validation_split=0.2)"
   ]
  },
  {
   "cell_type": "markdown",
   "metadata": {
    "id": "3buYlkkhoK93"
   },
   "source": [
    "### Evaluation"
   ]
  },
  {
   "cell_type": "code",
   "execution_count": 19,
   "metadata": {
    "id": "KImNMWTDoJaQ"
   },
   "outputs": [
    {
     "name": "stdout",
     "output_type": "stream",
     "text": [
      "782/782 [==============================] - 12s 15ms/step - loss: 0.5282 - acc: 0.8565\n",
      "[0.5282354950904846, 0.8565199971199036]\n"
     ]
    }
   ],
   "source": [
    "results = model.evaluate(test_data, test_labels)\n",
    "print(results)"
   ]
  },
  {
   "cell_type": "markdown",
   "metadata": {
    "id": "N1RRGcr9CFCW"
   },
   "source": [
    "So we're scoring somewhere in the mid-high 80's. Not bad for a simple recurrent network."
   ]
  },
  {
   "cell_type": "markdown",
   "metadata": {
    "id": "lGrBRC4YCObV"
   },
   "source": [
    "### Making Predictions\n",
    " \n",
    "Since our reviews are encoded well need to convert any review that we write into that form so the network can understand it. To do that well load the encodings from the dataset and use them to encode our own data.\n",
    "\n",
    "\n"
   ]
  },
  {
   "cell_type": "code",
   "execution_count": 20,
   "metadata": {
    "id": "Onu8leY4Cn9z"
   },
   "outputs": [
    {
     "name": "stdout",
     "output_type": "stream",
     "text": [
      "Downloading data from https://storage.googleapis.com/tensorflow/tf-keras-datasets/imdb_word_index.json\n",
      "1646592/1641221 [==============================] - 1s 1us/step\n",
      "1654784/1641221 [==============================] - 1s 1us/step\n",
      "[  0   0   0   0   0   0   0   0   0   0   0   0   0   0   0   0   0   0\n",
      "   0   0   0   0   0   0   0   0   0   0   0   0   0   0   0   0   0   0\n",
      "   0   0   0   0   0   0   0   0   0   0   0   0   0   0   0   0   0   0\n",
      "   0   0   0   0   0   0   0   0   0   0   0   0   0   0   0   0   0   0\n",
      "   0   0   0   0   0   0   0   0   0   0   0   0   0   0   0   0   0   0\n",
      "   0   0   0   0   0   0   0   0   0   0   0   0   0   0   0   0   0   0\n",
      "   0   0   0   0   0   0   0   0   0   0   0   0   0   0   0   0   0   0\n",
      "   0   0   0   0   0   0   0   0   0   0   0   0   0   0   0   0   0   0\n",
      "   0   0   0   0   0   0   0   0   0   0   0   0   0   0   0   0   0   0\n",
      "   0   0   0   0   0   0   0   0   0   0   0   0   0   0   0   0   0   0\n",
      "   0   0   0   0   0   0   0   0   0   0   0   0   0   0   0   0   0   0\n",
      "   0   0   0   0   0   0   0   0   0   0   0   0   0   0   0   0   0   0\n",
      "   0   0   0   0   0   0   0   0   0   0   0   0   0   0   0   0   0   0\n",
      "   0   0   0   0   0   0   0   0   0  12  17  13  40 477  35 477]\n"
     ]
    }
   ],
   "source": [
    "word_index = imdb.get_word_index()\n",
    "\n",
    "def encode_text(text):\n",
    "  tokens = keras.preprocessing.text.text_to_word_sequence(text)\n",
    "  tokens = [word_index[word] if word in word_index else 0 for word in tokens]\n",
    "  return sequence.pad_sequences([tokens], MAXLEN)[0]\n",
    "\n",
    "text = \"that movie was just amazing, so amazing\"\n",
    "encoded = encode_text(text)\n",
    "print(encoded)\n"
   ]
  },
  {
   "cell_type": "code",
   "execution_count": 21,
   "metadata": {
    "id": "PKna3vxmFwrB"
   },
   "outputs": [
    {
     "name": "stdout",
     "output_type": "stream",
     "text": [
      "that movie was just amazing so amazing\n"
     ]
    }
   ],
   "source": [
    "# while were at it lets make a decode function\n",
    "\n",
    "reverse_word_index = {value: key for (key, value) in word_index.items()}\n",
    "\n",
    "def decode_integers(integers):\n",
    "    PAD = 0\n",
    "    text = \"\"\n",
    "    for num in integers:\n",
    "      if num != PAD:\n",
    "        text += reverse_word_index[num] + \" \"\n",
    "\n",
    "    return text[:-1]\n",
    "  \n",
    "print(decode_integers(encoded))"
   ]
  },
  {
   "cell_type": "code",
   "execution_count": null,
   "metadata": {
    "id": "L8nyrr00HPZF"
   },
   "outputs": [],
   "source": [
    "# now time to make a prediction\n",
    "\n",
    "def predict(text):\n",
    "  encoded_text = encode_text(text)\n",
    "  pred = np.zeros((1,250))\n",
    "  pred[0] = encoded_text\n",
    "  result = model.predict(pred) \n",
    "  print(result[0])\n",
    "\n",
    "positive_review = \"That movie was! really loved it and would great watch it again because it was amazingly great\"\n",
    "predict(positive_review)\n",
    "\n",
    "negative_review = \"that movie really sucked. I hated it and wouldn't watch it again. Was one of the worst things I've ever watched\"\n",
    "predict(negative_review)\n"
   ]
  },
  {
   "cell_type": "markdown",
   "metadata": {
    "id": "01BJLcGb4ZqK"
   },
   "source": [
    "## RNN Play Generator\n",
    "\n",
    " We are going to use a RNN to generate a play. We will simply show the RNN an example of something we want it to recreate and it will learn how to write a version of it on its own. We'll do this using a character predictive model that will take as input a variable length sequence and predict the next character. We can use the model many times in a row with the output from the last predicition as the input for the next call to generate a sequence.\n",
    "\n",
    "\n",
    "*This guide is based on the following: https://www.tensorflow.org/tutorials/text/text_generation*"
   ]
  },
  {
   "cell_type": "code",
   "execution_count": 1,
   "metadata": {
    "id": "fju7i1FKrK_G"
   },
   "outputs": [],
   "source": [
    "\n",
    "from keras.preprocessing import sequence\n",
    "import keras\n",
    "import tensorflow as tf\n",
    "import os\n",
    "import numpy as np"
   ]
  },
  {
   "cell_type": "markdown",
   "metadata": {
    "id": "F48c-EctQ378"
   },
   "source": [
    "### Dataset\n",
    "For this example, we only need one peice of training data. In fact, we can write our own poem or play and pass that to the network for training if we'd like. However, to make things easy we'll use an extract from a shakesphere play.\n",
    "\n",
    "\n"
   ]
  },
  {
   "cell_type": "code",
   "execution_count": 2,
   "metadata": {
    "id": "IdRcVIhtRGlF"
   },
   "outputs": [],
   "source": [
    "path_to_file = tf.keras.utils.get_file('shakespeare.txt', 'https://storage.googleapis.com/download.tensorflow.org/data/shakespeare.txt')"
   ]
  },
  {
   "cell_type": "markdown",
   "metadata": {
    "id": "NlSVGd5ACkZe"
   },
   "source": [
    "### Loading Your Own Data\n",
    "To load your own data, you'll need to upload a file from the dialog below. Then you'll need to follow the steps from above but load in this new file instead.\n",
    "\n"
   ]
  },
  {
   "cell_type": "code",
   "execution_count": null,
   "metadata": {
    "id": "CFYFwbJOC3bP"
   },
   "outputs": [],
   "source": [
    "from google.colab import files\n",
    "path_to_file = list(files.upload().keys())[0]"
   ]
  },
  {
   "cell_type": "markdown",
   "metadata": {
    "id": "KtJMEqQyRhAk"
   },
   "source": [
    "### Read Contents of File\n"
   ]
  },
  {
   "cell_type": "code",
   "execution_count": 3,
   "metadata": {
    "id": "-n4oovOMRnP7"
   },
   "outputs": [
    {
     "name": "stdout",
     "output_type": "stream",
     "text": [
      "Length of text: 606208 characters\n"
     ]
    }
   ],
   "source": [
    "# Read, then decode for py2 compat.\n",
    "text = open(path_to_file, 'rb').read().decode(encoding='utf-8')\n",
    "# length of text is the number of characters in it\n",
    "print ('Length of text: {} characters'.format(len(text)))"
   ]
  },
  {
   "cell_type": "code",
   "execution_count": 4,
   "metadata": {
    "id": "KHUxQVl7Rt10"
   },
   "outputs": [
    {
     "name": "stdout",
     "output_type": "stream",
     "text": [
      "First Citizen:\n",
      "Before we proceed any further, hear me speak.\n",
      "\n",
      "All:\n",
      "Speak, speak.\n",
      "\n",
      "First Citizen:\n",
      "You are all resolved rather to die than to famish?\n",
      "\n",
      "All:\n",
      "Resolved. resolved.\n",
      "\n",
      "First Citizen:\n",
      "First, you know Caius Marcius is chief enemy to the people.\n",
      "\n"
     ]
    }
   ],
   "source": [
    "# Take a look at the first 250 characters in text\n",
    "print(text[:250])"
   ]
  },
  {
   "cell_type": "markdown",
   "metadata": {
    "id": "5vt8Vpe0RvaJ"
   },
   "source": [
    "### Encoding\n",
    "Since this text isn't encoded yet well need to do that ourselves. We are going to encode each unique character as a different integer.\n",
    "\n"
   ]
  },
  {
   "cell_type": "code",
   "execution_count": 5,
   "metadata": {
    "id": "C7AZNI7aRz6y"
   },
   "outputs": [],
   "source": [
    "vocab = sorted(set(text))\n",
    "# Creating a mapping from unique characters to indices\n",
    "char2idx = {u:i for i, u in enumerate(vocab)}\n",
    "idx2char = np.array(vocab)\n",
    "\n",
    "def text_to_int(text):\n",
    "  return np.array([char2idx[c] for c in text])\n",
    "\n",
    "text_as_int = text_to_int(text)"
   ]
  },
  {
   "cell_type": "code",
   "execution_count": 6,
   "metadata": {
    "id": "_i5kvmX_SLW4"
   },
   "outputs": [
    {
     "name": "stdout",
     "output_type": "stream",
     "text": [
      "Text: First Citizen\n",
      "Encoded: [17 46 55 56 57  1 14 46 57 46 63 42 51]\n"
     ]
    }
   ],
   "source": [
    "# lets look at how part of our text is encoded\n",
    "print(\"Text:\", text[:13])\n",
    "print(\"Encoded:\", text_to_int(text[:13]))"
   ]
  },
  {
   "cell_type": "markdown",
   "metadata": {
    "id": "mDvD5kqTWwOn"
   },
   "source": [
    "And here we will make a function that can convert our numeric values to text.\n"
   ]
  },
  {
   "cell_type": "code",
   "execution_count": 7,
   "metadata": {
    "id": "Af52YChSW5hX"
   },
   "outputs": [
    {
     "name": "stdout",
     "output_type": "stream",
     "text": [
      "First Citizen\n"
     ]
    }
   ],
   "source": [
    "def int_to_text(ints):\n",
    "  try:\n",
    "    ints = ints.numpy()\n",
    "  except:\n",
    "    pass\n",
    "  return ''.join(idx2char[ints])\n",
    "\n",
    "print(int_to_text(text_as_int[:13]))"
   ]
  },
  {
   "cell_type": "markdown",
   "metadata": {
    "id": "T_49cl6uS0r-"
   },
   "source": [
    "### Creating Training Examples\n",
    "Remember our task is to feed the model a sequence and have it return to us the next character. This means we need to split our text data from above into many shorter sequences that we can pass to the model as training examples. \n",
    "\n",
    "The training examples we will prepapre will use a *seq_length* sequence as input and a *seq_length* sequence as the output where that sequence is the original sequence shifted one letter to the right. For example:\n",
    "\n",
    "```input: Hell | output: ello```\n",
    "\n",
    "Our first step will be to create a stream of characters from our text data."
   ]
  },
  {
   "cell_type": "code",
   "execution_count": 9,
   "metadata": {
    "id": "xBkXz9fjUQHW"
   },
   "outputs": [],
   "source": [
    "seq_length = 100  # length of sequence for a training example\n",
    "examples_per_epoch = len(text)//(seq_length+1)\n",
    "\n",
    "# Create training examples / targets\n",
    "char_dataset = tf.data.Dataset.from_tensor_slices(text_as_int)"
   ]
  },
  {
   "cell_type": "markdown",
   "metadata": {
    "id": "pqmxfT7gVGlr"
   },
   "source": [
    "Next we can use the batch method to turn this stream of characters into batches of desired length."
   ]
  },
  {
   "cell_type": "code",
   "execution_count": 10,
   "metadata": {
    "id": "Xi0xaPB_VOJl"
   },
   "outputs": [],
   "source": [
    "sequences = char_dataset.batch(seq_length+1, drop_remainder=True)"
   ]
  },
  {
   "cell_type": "markdown",
   "metadata": {
    "id": "fxo1Dig_VvV1"
   },
   "source": [
    "Now we need to use these sequences of length 101 and split them into input and output."
   ]
  },
  {
   "cell_type": "code",
   "execution_count": 11,
   "metadata": {
    "id": "03zKVHTvV0Km"
   },
   "outputs": [],
   "source": [
    "def split_input_target(chunk):  # for the example: hello\n",
    "    input_text = chunk[:-1]  # hell\n",
    "    target_text = chunk[1:]  # ello\n",
    "    return input_text, target_text  # hell, ello\n",
    "\n",
    "dataset = sequences.map(split_input_target)  # we use map to apply the above function to every entry"
   ]
  },
  {
   "cell_type": "code",
   "execution_count": 12,
   "metadata": {
    "id": "9p_y2YmgWbnc"
   },
   "outputs": [
    {
     "name": "stdout",
     "output_type": "stream",
     "text": [
      "\n",
      "\n",
      "EXAMPLE\n",
      "\n",
      "INPUT\n",
      "First Citizen:\n",
      "Before we proceed any further, hear me speak.\n",
      "\n",
      "All:\n",
      "Speak, speak.\n",
      "\n",
      "First Citizen:\n",
      "You\n",
      "\n",
      "OUTPUT\n",
      "irst Citizen:\n",
      "Before we proceed any further, hear me speak.\n",
      "\n",
      "All:\n",
      "Speak, speak.\n",
      "\n",
      "First Citizen:\n",
      "You \n",
      "\n",
      "\n",
      "EXAMPLE\n",
      "\n",
      "INPUT\n",
      "are all resolved rather to die than to famish?\n",
      "\n",
      "All:\n",
      "Resolved. resolved.\n",
      "\n",
      "First Citizen:\n",
      "First, you \n",
      "\n",
      "OUTPUT\n",
      "re all resolved rather to die than to famish?\n",
      "\n",
      "All:\n",
      "Resolved. resolved.\n",
      "\n",
      "First Citizen:\n",
      "First, you k\n"
     ]
    }
   ],
   "source": [
    "for x, y in dataset.take(2):\n",
    "  print(\"\\n\\nEXAMPLE\\n\")\n",
    "  print(\"INPUT\")\n",
    "  print(int_to_text(x))\n",
    "  print(\"\\nOUTPUT\")\n",
    "  print(int_to_text(y))"
   ]
  },
  {
   "cell_type": "markdown",
   "metadata": {
    "id": "v6OxuFKVXpwK"
   },
   "source": [
    "Finally we need to make training batches."
   ]
  },
  {
   "cell_type": "code",
   "execution_count": 13,
   "metadata": {
    "id": "cRsKcjhXXuoD"
   },
   "outputs": [],
   "source": [
    "BATCH_SIZE = 64\n",
    "VOCAB_SIZE = len(vocab)  # vocab is number of unique characters\n",
    "EMBEDDING_DIM = 256\n",
    "RNN_UNITS = 1024\n",
    "\n",
    "# Buffer size to shuffle the dataset\n",
    "# (TF data is designed to work with possibly infinite sequences,\n",
    "# so it doesn't attempt to shuffle the entire sequence in memory. Instead,\n",
    "# it maintains a buffer in which it shuffles elements).\n",
    "BUFFER_SIZE = 10000\n",
    "\n",
    "data = dataset.shuffle(BUFFER_SIZE).batch(BATCH_SIZE, drop_remainder=True)"
   ]
  },
  {
   "cell_type": "markdown",
   "metadata": {
    "id": "E6YRmZLtX0d0"
   },
   "source": [
    "### Building the Model\n",
    " We will use an embedding layer a LSTM and one dense layer that contains a node for each unique character in our training data. The dense layer will give us a probability distribution over all nodes."
   ]
  },
  {
   "cell_type": "code",
   "execution_count": 14,
   "metadata": {
    "id": "5v_P2dEic4qt"
   },
   "outputs": [
    {
     "name": "stdout",
     "output_type": "stream",
     "text": [
      "Model: \"sequential\"\n",
      "_________________________________________________________________\n",
      " Layer (type)                Output Shape              Param #   \n",
      "=================================================================\n",
      " embedding (Embedding)       (64, None, 256)           16384     \n",
      "                                                                 \n",
      " lstm (LSTM)                 (64, None, 1024)          5246976   \n",
      "                                                                 \n",
      " dense (Dense)               (64, None, 64)            65600     \n",
      "                                                                 \n",
      "=================================================================\n",
      "Total params: 5,328,960\n",
      "Trainable params: 5,328,960\n",
      "Non-trainable params: 0\n",
      "_________________________________________________________________\n"
     ]
    }
   ],
   "source": [
    "def build_model(vocab_size, embedding_dim, rnn_units, batch_size):\n",
    "  model = tf.keras.Sequential([\n",
    "    tf.keras.layers.Embedding(vocab_size, embedding_dim,\n",
    "                              batch_input_shape=[batch_size, None]),\n",
    "    tf.keras.layers.LSTM(rnn_units,\n",
    "                        return_sequences=True,\n",
    "                        stateful=True,\n",
    "                        recurrent_initializer='glorot_uniform'),\n",
    "    tf.keras.layers.Dense(vocab_size)\n",
    "  ])\n",
    "  return model\n",
    "\n",
    "model = build_model(VOCAB_SIZE,EMBEDDING_DIM, RNN_UNITS, BATCH_SIZE)\n",
    "model.summary()"
   ]
  },
  {
   "cell_type": "markdown",
   "metadata": {
    "id": "8gfnHBUOvPqE"
   },
   "source": [
    "### Creating a Loss Function\n",
    "Now we are going to create our own loss function for this problem. This is because our model will output a (64, sequence_length, 65) shaped tensor that represents the probability distribution of each character at each timestep for every sequence in the batch. \n",
    "\n"
   ]
  },
  {
   "cell_type": "markdown",
   "metadata": {
    "id": "g_ERM4F15v_S"
   },
   "source": [
    "However, before we do that let's have a look at a sample input and the output from our untrained model. This is so we can understand what the model is giving us.\n",
    "\n"
   ]
  },
  {
   "cell_type": "code",
   "execution_count": 15,
   "metadata": {
    "id": "KdvEqlwc6_q0"
   },
   "outputs": [
    {
     "name": "stdout",
     "output_type": "stream",
     "text": [
      "(64, 100, 64) # (batch_size, sequence_length, vocab_size)\n"
     ]
    }
   ],
   "source": [
    "for input_example_batch, target_example_batch in data.take(1):\n",
    "  example_batch_predictions = model(input_example_batch)  # ask our model for a prediction on our first batch of training data (64 entries)\n",
    "  print(example_batch_predictions.shape, \"# (batch_size, sequence_length, vocab_size)\")  # print out the output shape"
   ]
  },
  {
   "cell_type": "code",
   "execution_count": 16,
   "metadata": {
    "id": "RQS5KXwi7_NX"
   },
   "outputs": [
    {
     "name": "stdout",
     "output_type": "stream",
     "text": [
      "64\n",
      "tf.Tensor(\n",
      "[[[-1.91196601e-03 -6.17196504e-03 -3.95483151e-03 ... -1.94989354e-03\n",
      "   -8.92560929e-03  1.11670047e-03]\n",
      "  [-3.27813299e-03  4.06465610e-04 -3.34179308e-03 ... -6.69423549e-04\n",
      "   -9.43805464e-03  3.54663469e-04]\n",
      "  [ 6.91586523e-04 -7.58636568e-04 -2.24970235e-03 ... -5.49677340e-03\n",
      "   -6.38974551e-03  2.88930186e-03]\n",
      "  ...\n",
      "  [ 5.73064387e-03 -3.21802031e-03 -7.94901978e-03 ... -1.60332653e-03\n",
      "   -3.71352537e-03 -5.54067595e-03]\n",
      "  [ 7.42969289e-03  3.54275107e-06 -3.41931987e-03 ... -4.19207197e-03\n",
      "    1.29706226e-03 -1.03057213e-02]\n",
      "  [ 6.71343645e-03  7.23110465e-03  1.32953271e-03 ... -2.41062895e-04\n",
      "    6.38014358e-03 -2.50834925e-03]]\n",
      "\n",
      " [[ 1.43243163e-03  7.95285776e-03  4.38496703e-03 ...  2.83608027e-03\n",
      "    5.33632375e-03  5.84953278e-03]\n",
      "  [ 2.29328428e-03  5.33617288e-03  2.63649202e-03 ... -3.62998992e-03\n",
      "    5.31138293e-03  7.03414110e-03]\n",
      "  [-6.17647427e-04 -1.34091126e-03 -2.97740474e-03 ... -4.36112192e-03\n",
      "   -5.40087186e-03  6.65659178e-03]\n",
      "  ...\n",
      "  [ 5.80149051e-03  2.62407423e-03 -3.55341053e-03 ... -5.87269943e-03\n",
      "   -3.71875474e-03  3.62331048e-03]\n",
      "  [ 1.12883737e-02  3.29047092e-03 -7.02710915e-03 ... -4.87810560e-03\n",
      "   -3.89827741e-03 -1.19603740e-03]\n",
      "  [ 5.73967258e-03 -3.59623955e-04 -7.25897355e-03 ... -1.98603631e-03\n",
      "   -3.56082758e-03 -3.82046960e-03]]\n",
      "\n",
      " [[ 3.42872273e-03 -2.40979763e-03  2.18717335e-03 ... -6.12838008e-03\n",
      "    7.02773454e-04  6.25480805e-03]\n",
      "  [ 8.66877194e-03 -1.04018925e-02 -4.50916868e-03 ... -1.98100461e-03\n",
      "    6.35294151e-03  6.36160374e-03]\n",
      "  [ 7.32050696e-03 -1.32584702e-02 -8.70902464e-03 ... -1.85514800e-05\n",
      "    2.23562075e-03  5.09054214e-03]\n",
      "  ...\n",
      "  [ 6.49117399e-03  1.02878986e-02  7.02907750e-03 ...  5.66476863e-03\n",
      "    1.42013957e-03 -1.39951962e-03]\n",
      "  [ 2.08307942e-03  1.33622885e-02  3.43578774e-03 ...  4.50587971e-03\n",
      "   -1.48733053e-03 -1.15858624e-03]\n",
      "  [-3.01452097e-03  9.01604258e-03 -3.89669626e-03 ...  1.00495182e-02\n",
      "   -2.87016015e-03  1.15714665e-03]]\n",
      "\n",
      " ...\n",
      "\n",
      " [[-2.81336484e-03  5.22291940e-03 -9.06175177e-04 ...  5.90228650e-04\n",
      "   -2.64538708e-03  1.61531556e-04]\n",
      "  [-9.38345329e-05  5.36407717e-03  3.82217811e-04 ...  2.69626523e-03\n",
      "   -3.48306587e-03  8.14703992e-04]\n",
      "  [ 2.38143606e-03  1.21436659e-02  4.96160705e-03 ...  4.78950469e-03\n",
      "    1.78118178e-03  6.79450622e-03]\n",
      "  ...\n",
      "  [-4.60536685e-03  6.56561553e-03 -6.16273901e-04 ...  2.69058417e-03\n",
      "   -2.71009188e-03 -1.82662369e-03]\n",
      "  [-1.38630322e-03  1.34046217e-02  4.05064924e-03 ...  4.51999810e-03\n",
      "    4.23407089e-03  4.59639588e-03]\n",
      "  [ 3.59453005e-03  1.18306782e-02 -1.44315884e-03 ...  6.78479578e-03\n",
      "    7.24664424e-03 -1.80302165e-03]]\n",
      "\n",
      " [[-3.54151358e-03  2.38847174e-03  5.47991227e-03 ... -5.92373917e-03\n",
      "   -2.03158590e-03 -2.15583947e-03]\n",
      "  [-3.61943617e-03  9.54402424e-03  2.05646153e-03 ... -3.80463945e-03\n",
      "   -1.97435031e-03  3.23632453e-03]\n",
      "  [-6.48010010e-03  9.73990001e-03  6.00137934e-03 ... -7.94503838e-03\n",
      "   -2.53535761e-03  1.43302418e-03]\n",
      "  ...\n",
      "  [-2.70251557e-03  1.01727331e-02 -1.70844374e-03 ...  7.27984728e-03\n",
      "    3.29686981e-03  9.74043831e-03]\n",
      "  [-3.48189590e-03  1.61326528e-02  2.21011601e-03 ...  1.75160123e-03\n",
      "    5.83133288e-03  1.14972061e-02]\n",
      "  [-1.28663413e-03  1.34164505e-02  3.14591778e-03 ...  1.79718714e-03\n",
      "    2.12032232e-03  9.63618979e-03]]\n",
      "\n",
      " [[-1.91196601e-03 -6.17196504e-03 -3.95483151e-03 ... -1.94989354e-03\n",
      "   -8.92560929e-03  1.11670047e-03]\n",
      "  [-5.04432013e-03 -8.36966094e-03 -5.48422523e-03 ...  1.45781058e-04\n",
      "   -8.75286106e-03 -2.79517798e-03]\n",
      "  [-7.03657093e-03 -2.95950536e-04 -6.70993887e-03 ...  6.75182045e-03\n",
      "   -4.98169614e-03 -5.97942667e-03]\n",
      "  ...\n",
      "  [ 9.73195024e-03  1.78910717e-02  1.40496460e-03 ...  7.64317904e-03\n",
      "    8.44815280e-03  4.64968290e-03]\n",
      "  [ 8.42033699e-03  1.77966282e-02  2.63104774e-03 ...  4.42822138e-03\n",
      "    7.79660698e-03  5.02358656e-03]\n",
      "  [ 9.42237396e-03  1.25439046e-02  7.67467311e-04 ...  2.54046964e-03\n",
      "    4.99178469e-03  5.19128516e-03]]], shape=(64, 100, 64), dtype=float32)\n"
     ]
    }
   ],
   "source": [
    "# we can see that the predicition is an array of 64 arrays, one for each entry in the batch\n",
    "print(len(example_batch_predictions))\n",
    "print(example_batch_predictions)"
   ]
  },
  {
   "cell_type": "code",
   "execution_count": 17,
   "metadata": {
    "id": "sA1Zhop28V9n"
   },
   "outputs": [
    {
     "name": "stdout",
     "output_type": "stream",
     "text": [
      "100\n",
      "tf.Tensor(\n",
      "[[-1.9119660e-03 -6.1719650e-03 -3.9548315e-03 ... -1.9498935e-03\n",
      "  -8.9256093e-03  1.1167005e-03]\n",
      " [-3.2781330e-03  4.0646561e-04 -3.3417931e-03 ... -6.6942355e-04\n",
      "  -9.4380546e-03  3.5466347e-04]\n",
      " [ 6.9158652e-04 -7.5863657e-04 -2.2497023e-03 ... -5.4967734e-03\n",
      "  -6.3897455e-03  2.8893019e-03]\n",
      " ...\n",
      " [ 5.7306439e-03 -3.2180203e-03 -7.9490198e-03 ... -1.6033265e-03\n",
      "  -3.7135254e-03 -5.5406759e-03]\n",
      " [ 7.4296929e-03  3.5427511e-06 -3.4193199e-03 ... -4.1920720e-03\n",
      "   1.2970623e-03 -1.0305721e-02]\n",
      " [ 6.7134365e-03  7.2311047e-03  1.3295327e-03 ... -2.4106289e-04\n",
      "   6.3801436e-03 -2.5083493e-03]], shape=(100, 64), dtype=float32)\n"
     ]
    }
   ],
   "source": [
    "# lets examine one prediction\n",
    "pred = example_batch_predictions[0]\n",
    "print(len(pred))\n",
    "print(pred)\n",
    "# notice this is a 2d array of length 100, where each interior array is the prediction for the next character at each time step"
   ]
  },
  {
   "cell_type": "code",
   "execution_count": 18,
   "metadata": {
    "id": "UbIoe7Ei8q3q"
   },
   "outputs": [
    {
     "name": "stdout",
     "output_type": "stream",
     "text": [
      "64\n",
      "tf.Tensor(\n",
      "[-1.9119660e-03 -6.1719650e-03 -3.9548315e-03  2.4805588e-03\n",
      "  1.0900158e-03  4.3607894e-03  2.5282260e-03  2.3346832e-03\n",
      "  2.8066868e-03 -3.1564995e-03  1.2667899e-03  5.9451675e-03\n",
      " -2.8497244e-03 -3.9745867e-03 -1.1115735e-03  1.9913821e-03\n",
      "  6.3501438e-04 -4.7178706e-03 -1.4182129e-03  6.0185450e-03\n",
      " -5.6688476e-04 -3.7675290e-03  4.5486446e-03 -2.8684363e-03\n",
      "  2.7705852e-03 -4.0031155e-06 -4.4157552e-03 -8.7112666e-04\n",
      " -5.4424722e-03 -2.0448481e-04  4.8593637e-03 -3.4685149e-03\n",
      " -1.4281278e-03  2.3556368e-03 -4.1486458e-03 -4.1318005e-03\n",
      "  2.1597063e-03  1.2451591e-04 -4.8366876e-04  7.5287750e-04\n",
      "  2.6032329e-04 -2.0776927e-03  4.3039080e-03 -1.9233171e-03\n",
      " -3.1137001e-04  2.8362856e-03  1.8624699e-03  1.1298485e-03\n",
      " -3.6476864e-03  1.9817038e-03 -1.5402724e-03  2.1982896e-03\n",
      " -3.1358073e-03 -3.9829379e-03  5.1007890e-03  4.2888848e-04\n",
      " -5.8554171e-04  1.7720816e-03 -9.4308378e-04  2.0820235e-03\n",
      "  5.6511071e-04 -1.9498935e-03 -8.9256093e-03  1.1167005e-03], shape=(64,), dtype=float32)\n"
     ]
    }
   ],
   "source": [
    "# and finally well look at a prediction at the first timestep\n",
    "time_pred = pred[0]\n",
    "print(len(time_pred))\n",
    "print(time_pred)\n",
    "# and of course its 65 values representing the probabillity of each character occuring next"
   ]
  },
  {
   "cell_type": "code",
   "execution_count": 19,
   "metadata": {
    "id": "qlEYM1H995gR"
   },
   "outputs": [
    {
     "data": {
      "text/plain": [
       "\"JNdrTwwnbjuP&KKxTgXVY;jZqLhxehNrJDIYN;P,D'HatjAvWtxuNASIeL'UgdVPJj:R'BYoJyi;dmyyfCpuZh&VwZ\\n.obhyspAL\""
      ]
     },
     "execution_count": 19,
     "metadata": {},
     "output_type": "execute_result"
    }
   ],
   "source": [
    "# If we want to determine the predicted character we need to sample the output distribution (pick a value based on probabillity)\n",
    "sampled_indices = tf.random.categorical(pred, num_samples=1)\n",
    "\n",
    "# now we can reshape that array and convert all the integers to numbers to see the actual characters\n",
    "sampled_indices = np.reshape(sampled_indices, (1, -1))[0]\n",
    "predicted_chars = int_to_text(sampled_indices)\n",
    "\n",
    "predicted_chars  # and this is what the model predicted for training sequence 1"
   ]
  },
  {
   "cell_type": "markdown",
   "metadata": {
    "id": "qcCBfPjN9Cnp"
   },
   "source": [
    " Create a loss function that can compare that output to the expected output and give us some numeric value representing how close the two were. "
   ]
  },
  {
   "cell_type": "code",
   "execution_count": 20,
   "metadata": {
    "id": "ZOw23fWq9D9O"
   },
   "outputs": [],
   "source": [
    "def loss(labels, logits):\n",
    "  return tf.keras.losses.sparse_categorical_crossentropy(labels, logits, from_logits=True)"
   ]
  },
  {
   "cell_type": "markdown",
   "metadata": {
    "id": "kcg75GwXgW81"
   },
   "source": [
    "### Compiling the Model\n",
    "At this point we can think of our problem as a classification problem where the model predicts the probabillity of each unique letter coming next. \n"
   ]
  },
  {
   "cell_type": "code",
   "execution_count": 21,
   "metadata": {
    "id": "9g6o7zA_hAiS"
   },
   "outputs": [],
   "source": [
    "model.compile(optimizer='adam', loss=loss)"
   ]
  },
  {
   "cell_type": "markdown",
   "metadata": {
    "id": "YgDKr4yvjLPI"
   },
   "source": [
    "### Creating Checkpoints\n",
    "Setup and configure our model to save checkpoinst as it trains. This will allow us to load our model from a checkpoint and continue training it."
   ]
  },
  {
   "cell_type": "code",
   "execution_count": 22,
   "metadata": {
    "id": "v7aMushYjSpy"
   },
   "outputs": [],
   "source": [
    "# Directory where the checkpoints will be saved\n",
    "checkpoint_dir = './training_checkpoints'\n",
    "# Name of the checkpoint files\n",
    "checkpoint_prefix = os.path.join(checkpoint_dir, \"ckpt_{epoch}\")\n",
    "\n",
    "checkpoint_callback=tf.keras.callbacks.ModelCheckpoint(\n",
    "    filepath=checkpoint_prefix,\n",
    "    save_weights_only=True)"
   ]
  },
  {
   "cell_type": "markdown",
   "metadata": {
    "id": "0p7acPvGja5c"
   },
   "source": [
    "### Training\n",
    "Finally, we will start training the model. \n",
    "\n",
    "**If this is taking a while go to Runtime > Change Runtime Type and choose \"GPU\" under hardware accelerator.**\n",
    "\n"
   ]
  },
  {
   "cell_type": "code",
   "execution_count": null,
   "metadata": {
    "id": "R4PAgrwMjZ4_"
   },
   "outputs": [
    {
     "name": "stdout",
     "output_type": "stream",
     "text": [
      "Epoch 1/50\n",
      "93/93 [==============================] - 224s 2s/step - loss: 2.9119\n",
      "Epoch 2/50\n",
      "93/93 [==============================] - 260s 3s/step - loss: 2.1703\n",
      "Epoch 3/50\n",
      "93/93 [==============================] - 255s 3s/step - loss: 1.9045\n",
      "Epoch 4/50\n",
      "93/93 [==============================] - 273s 3s/step - loss: 1.7319\n",
      "Epoch 5/50\n",
      "93/93 [==============================] - 266s 3s/step - loss: 1.6146\n",
      "Epoch 6/50\n",
      "93/93 [==============================] - 286s 3s/step - loss: 1.5257\n",
      "Epoch 7/50\n",
      "93/93 [==============================] - 295s 3s/step - loss: 1.4589\n",
      "Epoch 8/50\n",
      "93/93 [==============================] - 290s 3s/step - loss: 1.4033\n",
      "Epoch 9/50\n",
      "93/93 [==============================] - 275s 3s/step - loss: 1.3585\n",
      "Epoch 10/50\n",
      "93/93 [==============================] - 291s 3s/step - loss: 1.3159\n",
      "Epoch 11/50\n",
      "93/93 [==============================] - 279s 3s/step - loss: 1.2771\n",
      "Epoch 12/50\n",
      "93/93 [==============================] - 339s 4s/step - loss: 1.2376\n",
      "Epoch 13/50\n",
      "93/93 [==============================] - 1655s 18s/step - loss: 1.1979\n",
      "Epoch 14/50\n",
      "93/93 [==============================] - 372s 4s/step - loss: 1.1590\n",
      "Epoch 15/50\n",
      "93/93 [==============================] - 374s 4s/step - loss: 1.1163\n",
      "Epoch 16/50\n",
      "93/93 [==============================] - 355s 4s/step - loss: 1.0739\n",
      "Epoch 17/50\n",
      "93/93 [==============================] - 231s 2s/step - loss: 1.0265\n",
      "Epoch 18/50\n",
      "93/93 [==============================] - 251s 3s/step - loss: 0.9779\n",
      "Epoch 19/50\n",
      "93/93 [==============================] - 247s 3s/step - loss: 0.9284\n",
      "Epoch 20/50\n",
      "93/93 [==============================] - 249s 3s/step - loss: 0.8783\n",
      "Epoch 21/50\n",
      "93/93 [==============================] - 266s 3s/step - loss: 0.8284\n",
      "Epoch 22/50\n",
      "93/93 [==============================] - 274s 3s/step - loss: 0.7772\n",
      "Epoch 23/50\n",
      "93/93 [==============================] - 255s 3s/step - loss: 0.7285\n",
      "Epoch 24/50\n",
      "93/93 [==============================] - 249s 3s/step - loss: 0.6834\n",
      "Epoch 25/50\n",
      "93/93 [==============================] - 319s 3s/step - loss: 0.6403\n",
      "Epoch 26/50\n",
      "93/93 [==============================] - 234s 3s/step - loss: 0.6000\n",
      "Epoch 27/50\n",
      "93/93 [==============================] - 268s 3s/step - loss: 0.5648\n",
      "Epoch 28/50\n",
      "93/93 [==============================] - 275s 3s/step - loss: 0.5307\n",
      "Epoch 29/50\n",
      "93/93 [==============================] - 270s 3s/step - loss: 0.5016\n",
      "Epoch 30/50\n",
      "93/93 [==============================] - 278s 3s/step - loss: 0.4742\n",
      "Epoch 31/50\n",
      "93/93 [==============================] - 270s 3s/step - loss: 0.4528\n",
      "Epoch 32/50\n",
      "60/93 [==================>...........] - ETA: 1:35 - loss: 0.4260"
     ]
    }
   ],
   "source": [
    "history = model.fit(data, epochs=50, callbacks=[checkpoint_callback])"
   ]
  },
  {
   "cell_type": "markdown",
   "metadata": {
    "id": "9GhoHJVtmTsz"
   },
   "source": [
    "### Loading the Model\n",
    "We'll rebuild the model from a checkpoint using a batch_size of 1 so that we can feed one peice of text to the model and have it make a prediction."
   ]
  },
  {
   "cell_type": "code",
   "execution_count": null,
   "metadata": {
    "id": "TPSto3uimSKp"
   },
   "outputs": [],
   "source": [
    "model = build_model(VOCAB_SIZE, EMBEDDING_DIM, RNN_UNITS, batch_size=1)"
   ]
  },
  {
   "cell_type": "markdown",
   "metadata": {
    "id": "boEJvy_vjLJQ"
   },
   "source": [
    "Once the model is finished training, we can find the **lastest checkpoint** that stores the models weights using the following line.\n",
    "\n"
   ]
  },
  {
   "cell_type": "code",
   "execution_count": null,
   "metadata": {
    "id": "PZIEZWE4mNKl"
   },
   "outputs": [],
   "source": [
    "model.load_weights(tf.train.latest_checkpoint(checkpoint_dir))\n",
    "model.build(tf.TensorShape([1, None]))"
   ]
  },
  {
   "cell_type": "markdown",
   "metadata": {
    "id": "CmPPtbaTKF8d"
   },
   "source": [
    "We can load **any checkpoint** we want by specifying the exact file to load."
   ]
  },
  {
   "cell_type": "code",
   "execution_count": null,
   "metadata": {
    "id": "YQ_5p0ehKFDn"
   },
   "outputs": [],
   "source": [
    "checkpoint_num = 10\n",
    "model.load_weights(tf.train.load_checkpoint(\"./training_checkpoints/ckpt_\" + str(checkpoint_num)))\n",
    "model.build(tf.TensorShape([1, None]))"
   ]
  },
  {
   "cell_type": "markdown",
   "metadata": {
    "id": "KaZWalEeAxQN"
   },
   "source": [
    "### Generating Text\n",
    "Now we can generate some text using any starting string we'd like."
   ]
  },
  {
   "cell_type": "code",
   "execution_count": null,
   "metadata": {
    "id": "oPSALdQXA3l3"
   },
   "outputs": [],
   "source": [
    "def generate_text(model, start_string):\n",
    "  # Evaluation step (generating text using the learned model)\n",
    "\n",
    "  # Number of characters to generate\n",
    "  num_generate = 800\n",
    "\n",
    "  # Converting our start string to numbers (vectorizing)\n",
    "  input_eval = [char2idx[s] for s in start_string]\n",
    "  input_eval = tf.expand_dims(input_eval, 0)\n",
    "\n",
    "  # Empty string to store our results\n",
    "  text_generated = []\n",
    "\n",
    "  # Low temperatures results in more predictable text.\n",
    "  # Higher temperatures results in more surprising text.\n",
    "  # Experiment to find the best setting.\n",
    "  temperature = 1.0\n",
    "\n",
    "  # Here batch size == 1\n",
    "  model.reset_states()\n",
    "  for i in range(num_generate):\n",
    "      predictions = model(input_eval)\n",
    "      # remove the batch dimension\n",
    "    \n",
    "      predictions = tf.squeeze(predictions, 0)\n",
    "\n",
    "      # using a categorical distribution to predict the character returned by the model\n",
    "      predictions = predictions / temperature\n",
    "      predicted_id = tf.random.categorical(predictions, num_samples=1)[-1,0].numpy()\n",
    "\n",
    "      # We pass the predicted character as the next input to the model\n",
    "      # along with the previous hidden state\n",
    "      input_eval = tf.expand_dims([predicted_id], 0)\n",
    "\n",
    "      text_generated.append(idx2char[predicted_id])\n",
    "\n",
    "  return (start_string + ''.join(text_generated))"
   ]
  },
  {
   "cell_type": "code",
   "execution_count": null,
   "metadata": {
    "id": "cAJqhD9AA5mF"
   },
   "outputs": [],
   "source": [
    "inp = input(\"Type a starting string: \")\n",
    "print(generate_text(model, inp))"
   ]
  },
  {
   "cell_type": "markdown",
   "metadata": {
    "id": "CBjHrzzyOBVr"
   },
   "source": [
    "*And* that's pretty much it for this module! I highly reccomend messing with the model we just created and seeing what you can get it to do!"
   ]
  },
  {
   "cell_type": "markdown",
   "metadata": {
    "id": "Cw-1eDE54yQo"
   },
   "source": [
    "## Sources\n",
    "\n",
    "1. Chollet François. Deep Learning with Python. Manning Publications Co., 2018.\n",
    "2. “Text Classification with an RNN &nbsp;: &nbsp; TensorFlow Core.” TensorFlow, www.tensorflow.org/tutorials/text/text_classification_rnn.\n",
    "3. “Text Generation with an RNN &nbsp;: &nbsp; TensorFlow Core.” TensorFlow, www.tensorflow.org/tutorials/text/text_generation.\n",
    "4. “Understanding LSTM Networks.” Understanding LSTM Networks -- Colah's Blog, https://colah.github.io/posts/2015-08-Understanding-LSTMs/."
   ]
  }
 ],
 "metadata": {
  "accelerator": "GPU",
  "colab": {
   "collapsed_sections": [],
   "name": "Natural Language Processing with RNNs .ipynb",
   "provenance": []
  },
  "kernelspec": {
   "display_name": "Python 3",
   "language": "python",
   "name": "python3"
  },
  "language_info": {
   "codemirror_mode": {
    "name": "ipython",
    "version": 3
   },
   "file_extension": ".py",
   "mimetype": "text/x-python",
   "name": "python",
   "nbconvert_exporter": "python",
   "pygments_lexer": "ipython3",
   "version": "3.8.3"
  }
 },
 "nbformat": 4,
 "nbformat_minor": 1
}
